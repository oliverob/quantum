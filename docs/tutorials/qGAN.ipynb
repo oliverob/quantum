{
  "nbformat": 4,
  "nbformat_minor": 0,
  "metadata": {
    "colab": {
      "name": "qgan.ipynb",
      "provenance": [],
      "authorship_tag": "ABX9TyOX4sjMKPZJM1QBJQSL21l1",
      "include_colab_link": true
    },
    "kernelspec": {
      "name": "python3",
      "display_name": "Python 3"
    }
  },
  "cells": [
    {
      "cell_type": "markdown",
      "metadata": {
        "id": "view-in-github",
        "colab_type": "text"
      },
      "source": [
        "<a href=\"https://colab.research.google.com/github/oliverob/quantum/blob/master/qgan.ipynb\" target=\"_parent\"><img src=\"https://colab.research.google.com/assets/colab-badge.svg\" alt=\"Open In Colab\"/></a>"
      ]
    },
    {
      "cell_type": "markdown",
      "metadata": {
        "id": "ldLDoEjQtx8g",
        "colab_type": "text"
      },
      "source": [
        "# Quantum Generative Adversarial Network (qGAN)\n",
        "\n",
        "Loading an arbitary random probability distribution into a n qubit quantum state normally requires $O(2^n)$ gates which in most algorithms will dominate the complexity of the quantum algorithm and make it useless. By using a qGAN this loading can be done in $O(poly(n))$ gates [[1](https://https://www.nature.com/articles/s41534-019-0223-2)]. \n",
        "\n",
        "A qGAN is a version of a [Generative Adversarial Network](https://papers.nips.cc/paper/5423-generative-adversarial-nets) with a quantum generator and a classical discriminator. The quantum generator is trained to transform a given n-qubit input into:\n",
        "$$\n",
        "\\sum_{j=0}^{2^n-1} \\sqrt{p^j_{\\theta}}\\left| j \\right\\rangle\n",
        "$$\n",
        "where $p^j_{\\theta}$ relate to the probabilty of the state $j$. The discriminator has to try and distinguish between the output of the generator and the training data set. The two networks train alternatively and will eventaully reach a nash equilibrium where the discriminator cannot tell apart the generator and the training set data. The aim of this process is for $p^j_{\\theta}$ to approximate the distribution of the training data.\n",
        "\n",
        "This tutorial will guide you through using a qGAN to load a lognormal distribution to a 2 qubit system."
      ]
    },
    {
      "cell_type": "markdown",
      "metadata": {
        "id": "uwQzoKsCuSrY",
        "colab_type": "text"
      },
      "source": [
        "# Setup"
      ]
    },
    {
      "cell_type": "code",
      "metadata": {
        "id": "u4g8Xz0auW9z",
        "colab_type": "code",
        "colab": {}
      },
      "source": [
        "!pip install --upgrade tensorflow==2.1.0  tensorflow-quantum tensorflow-gan tensorflow-probability==0.9 tensorflow-datasets"
      ],
      "execution_count": null,
      "outputs": []
    },
    {
      "cell_type": "code",
      "metadata": {
        "id": "fVNr2dGRvtFv",
        "colab_type": "code",
        "colab": {}
      },
      "source": [
        "import tensorflow as tf\n",
        "import tensorflow_quantum as tfq\n",
        "import tensorflow_gan as tfg\n",
        "\n",
        "import cirq\n",
        "import sympy\n",
        "import numpy as np\n",
        "import collections\n",
        "import math\n",
        "\n",
        "import matplotlib.pyplot as plt\n",
        "\n",
        "# Intialise qubits\n",
        "num_qubits = 2 #@param\n",
        "qubits = [cirq.GridQubit(x,0) for x in range(num_qubits)]\n"
      ],
      "execution_count": 31,
      "outputs": []
    },
    {
      "cell_type": "markdown",
      "metadata": {
        "id": "Wn7A2fP1KnQL",
        "colab_type": "text"
      },
      "source": [
        "# Load Training Data"
      ]
    },
    {
      "cell_type": "markdown",
      "metadata": {
        "id": "tOoK9Y-NKxSV",
        "colab_type": "text"
      },
      "source": [
        "Before building the model, you need to generate the training data set."
      ]
    },
    {
      "cell_type": "code",
      "metadata": {
        "id": "gd3G6JxNOQe4",
        "colab_type": "code",
        "colab": {}
      },
      "source": [
        "def generate_data():\n",
        "  \"\"\"Generate training data for discriminator\n",
        "     \n",
        "     Bundles this with noise for generator to use\n",
        "  \"\"\"\n",
        "\n",
        "  size = 1000 # Size of training data set\n",
        "\n",
        "  # Take samples of lognormal distribution with mean = 1 and standard deviation =1\n",
        "  mu =1\n",
        "  sigma =1\n",
        "  continous_data = np.random.lognormal(mean=mu, sigma=sigma, size=size)\n",
        "  \n",
        "  # Remove all samples that lie outside the range expressible in the given number of qubits\n",
        "  continous_data = continous_data[continous_data <= 2**num_qubits-0.5]\n",
        "\n",
        "  # Discretize the remaining samples so the continous distribution can be approximated by a discrete distribution\n",
        "  discrete_data = tf.convert_to_tensor(np.digitize(continous_data,[i - 0.5 for i in range(1,2**num_qubits)]),dtype=tf.dtypes.int32)\n",
        "\n",
        "  # Convert the decimal into binary tensor\n",
        "  discrete_data = tf.cast(tf.math.mod(tf.bitwise.right_shift(tf.expand_dims(discrete_data,1), tf.range(num_qubits)), 2),dtype=tf.float32)\n",
        "  \n",
        "  # Intialise the same number of circuits as the discrete tensor to a uniform distribution by applying multiple hardardman gates\n",
        "  noise = []\n",
        "  for n in range(discrete_data.shape[0]):\n",
        "      noise.append(cirq.Circuit(cirq.Moment(cirq.H.on_each(qubits))))\n",
        "  noise = tfq.convert_to_tensor(noise)\n",
        "\n",
        "  return noise, discrete_data\n",
        "\n"
      ],
      "execution_count": 26,
      "outputs": []
    },
    {
      "cell_type": "markdown",
      "metadata": {
        "id": "tGhG-BIAVmCW",
        "colab_type": "text"
      },
      "source": [
        "# Quantum Generator\n"
      ]
    },
    {
      "cell_type": "markdown",
      "metadata": {
        "id": "q8nF0dBAelvH",
        "colab_type": "text"
      },
      "source": [
        "Each layer of a quantum generator consists of a layer of parameterised $R_y$ rotations, and a layer of $CZ$ gates to entangle all the qubits.\n",
        "\n",
        "The quantum generator you will be using only is only one layer deep. To represent more complex structures a larger circuit depth would need to be used."
      ]
    },
    {
      "cell_type": "code",
      "metadata": {
        "id": "2kVGCmeaV7nQ",
        "colab_type": "code",
        "colab": {
          "base_uri": "https://localhost:8080/",
          "height": 358
        },
        "outputId": "98b4f238-d6a3-4513-c35f-66136974074d"
      },
      "source": [
        "def quantum_generator_model(initial_distribution_tensor):\n",
        "  # Create parameters for each qubit\n",
        "  theta = sympy.symbols('a0:%d'%num_qubits)\n",
        "\n",
        "  # Set the input to the network\n",
        "  inputs = tf.keras.Input(shape=(),dtype=tf.dtypes.string)\n",
        "\n",
        "  # Create the parameterised Ry rotation layer circuit\n",
        "  parameterized_circuit = cirq.Circuit(cirq.Moment([cirq.ry(theta[i])(qubits[i]) for i in range(num_qubits)]))\n",
        "\n",
        "  # Entangle all the qubits by applying CZ in a circular fashion - except when there are only two qubits and then just apply one CZ\n",
        "  entangle_circuit = cirq.Circuit()\n",
        "  if(num_qubits > 2):\n",
        "    for i in range(num_qubits):\n",
        "      entangle_circuit.append([cirq.CZ(qubits[i], qubits[(i + 1) % num_qubits])])\n",
        "  else:\n",
        "    entangle_circuit.append([cirq.CZ(qubits[0],qubits[1])])\n",
        "  \n",
        "  # Combine the parameterized circuit layer and the entanglement circuit layer\n",
        "  layer_circuit =  parameterized_circuit + entangle_circuit\n",
        "  print(layer_circuit)\n",
        "\n",
        "  # Add this circuit layer to the network with an output on measurements on in the Z component\n",
        "  # Manipulate the output so it maps the -1, 1 outputs to 0, 1 like the binary discrete data generated by generate_data\n",
        "  layer = tfq.layers.PQC(layer_circuit, [(cirq.Z(qubits[i])+1)/2 for i in range(num_qubits)], repetitions=1)(inputs) #Important to have repetition =1\n",
        "  model = tf.keras.Model(inputs=[inputs], outputs=[layer])\n",
        "\n",
        "  #model.summary()\n",
        "\n",
        "  return model(initial_distribution_tensor)\n",
        "\n",
        "# Test the quantum generator\n",
        "noise, real_data = generate_data()\n",
        "print(quantum_generator_model(noise))\n",
        "print(real_data)"
      ],
      "execution_count": 27,
      "outputs": [
        {
          "output_type": "stream",
          "text": [
            "(0, 0): ───Ry(a0)───@───────@───\n",
            "                    │       │\n",
            "(1, 0): ───Ry(a1)───@───@───┼───\n",
            "                        │   │\n",
            "(2, 0): ───Ry(a2)───────@───@───\n",
            "tf.Tensor(\n",
            "[[1. 0. 0.]\n",
            " [0. 1. 0.]\n",
            " [1. 1. 0.]\n",
            " ...\n",
            " [1. 0. 0.]\n",
            " [1. 0. 0.]\n",
            " [1. 0. 0.]], shape=(856, 3), dtype=float32)\n",
            "tf.Tensor(\n",
            "[[0. 0. 0.]\n",
            " [1. 0. 0.]\n",
            " [0. 1. 0.]\n",
            " ...\n",
            " [1. 0. 0.]\n",
            " [0. 0. 1.]\n",
            " [1. 1. 0.]], shape=(856, 3), dtype=float32)\n"
          ],
          "name": "stdout"
        }
      ]
    },
    {
      "cell_type": "markdown",
      "metadata": {
        "id": "NfzqbvDmR1m1",
        "colab_type": "text"
      },
      "source": [
        "## Generator Loss Function"
      ]
    },
    {
      "cell_type": "code",
      "metadata": {
        "id": "7IgRsGmCR43s",
        "colab_type": "code",
        "colab": {}
      },
      "source": [
        "def generator_loss_function(gan_model):\n",
        "  # Function from https://www.nature.com/articles/s41534-019-0223-2\n",
        "  m = gan_model.discriminator_gen_outputs.shape[0]\n",
        "  sum = tf.math.reduce_sum(tf.math.log(gan_model.discriminator_gen_outputs))\n",
        "  sum = 1/m * sum\n",
        "  return sum"
      ],
      "execution_count": 19,
      "outputs": []
    },
    {
      "cell_type": "markdown",
      "metadata": {
        "id": "w2Sh5UwR40fg",
        "colab_type": "text"
      },
      "source": [
        "# Discriminator"
      ]
    },
    {
      "cell_type": "markdown",
      "metadata": {
        "id": "4NQcpLm1KCCa",
        "colab_type": "text"
      },
      "source": [
        "The discriminator is a classical neural network. You will use a 3-layer network with 50 input nodes, 20 hidden nodes and 1 output nodes. The structure of the discriminator is picked so it is equally balanced with the generator by emperical methods (we have just used the same structure as https://www.nature.com/articles/s41534-019-0223-2)."
      ]
    },
    {
      "cell_type": "code",
      "metadata": {
        "id": "DHHwHieb7QLj",
        "colab_type": "code",
        "colab": {}
      },
      "source": [
        "def discriminator_model(real_input, gen_inputs):\n",
        "  model = tf.keras.Sequential()\n",
        "  model.add(tf.keras.Input(shape=(num_qubits,)))\n",
        "  model.add(tf.keras.layers.Dense(50, activation=\"relu\"))\n",
        "  model.add(tf.keras.layers.Dense(20, activation=\"relu\"))\n",
        "  model.add(tf.keras.layers.Dense(1, activation=\"sigmoid\"))\n",
        "  #model.summary()\n",
        "  #print(real_input)\n",
        "  \n",
        "  return model(real_input)\n",
        "\n",
        "#discriminator = make_discriminator_model()\n",
        "#tf.keras.utils.plot_model(discriminator,show_shapes=True, show_layer_names=False, dpi=70)"
      ],
      "execution_count": 20,
      "outputs": []
    },
    {
      "cell_type": "markdown",
      "metadata": {
        "id": "S2lrCLuLMfFc",
        "colab_type": "text"
      },
      "source": [
        "## Discriminator loss function"
      ]
    },
    {
      "cell_type": "code",
      "metadata": {
        "id": "ezQQLtBGMn2h",
        "colab_type": "code",
        "colab": {}
      },
      "source": [
        "def discriminator_loss_function(gan_model):\n",
        "  # function from https://www.nature.com/articles/s41534-019-0223-2\n",
        "  m = gan_model.discriminator_gen_outputs.shape[0]\n",
        "  sum = tf.math.reduce_sum(tf.math.log(gan_model.discriminator_real_outputs) + tf.math.log(1-gan_model.discriminator_gen_outputs))\n",
        "  sum = 1/m * sum\n",
        "  return sum"
      ],
      "execution_count": 21,
      "outputs": []
    },
    {
      "cell_type": "markdown",
      "metadata": {
        "id": "EF4uYrrbLx-Z",
        "colab_type": "text"
      },
      "source": [
        "# Evaluate model"
      ]
    },
    {
      "cell_type": "code",
      "metadata": {
        "id": "nNHvJtnEL2sP",
        "colab_type": "code",
        "colab": {}
      },
      "source": [
        "def get_eval_metric_ops_fn(gan_model):\n",
        "  real_data_logits = tf.reduce_mean(gan_model.discriminator_real_outputs)\n",
        "  gen_data_logits = tf.reduce_mean(gan_model.discriminator_gen_outputs)\n",
        "\n",
        "  # Convert 2 bit binary tensor into single decimal tensor\n",
        "  sum_tensor = tf.reduce_sum(tf.map_fn(lambda t: t * 2 ** tf.range(tf.cast(gan_model.generated_data.shape[1], dtype=tf.int64)),\n",
        "    tf.cast(tf.reverse(tensor=gan_model.generated_data, axis=[1]), dtype=tf.int64)), axis=1)\n",
        "  \n",
        "  # Create labels to compare sum_tensor to so we can return the percentage of each result at every evaluation\n",
        "  zeros = tf.zeros(sum_tensor.shape)\n",
        "  ones = tf.ones(sum_tensor.shape)\n",
        "  twos = tf.ones(sum_tensor.shape) * 2\n",
        "  threes = tf.ones(sum_tensor.shape) * 3\n",
        "\n",
        "  # Attempt to calculate entropy to see how accurate the network is (but this doesn't work yet - just gives nan)\n",
        "  cce = tf.keras.losses.CategoricalCrossentropy()\n",
        "  entropy = cce(gan_model.generated_data, gan_model.real_data)\n",
        "  return {\n",
        "      'real_data_logits': tf.compat.v1.metrics.mean(real_data_logits),\n",
        "      'gen_data_logits': tf.compat.v1.metrics.mean(gen_data_logits),\n",
        "      'zeros': tf.compat.v1.metrics.accuracy(zeros,sum_tensor),\n",
        "      'ones':tf.compat.v1.metrics.accuracy(ones,sum_tensor),\n",
        "      'twos':tf.compat.v1.metrics.accuracy(twos,sum_tensor),\n",
        "      'threes':tf.compat.v1.metrics.accuracy(threes,sum_tensor),\n",
        "      'entropy':tf.compat.v1.metrics.mean(entropy),\n",
        "  }"
      ],
      "execution_count": 22,
      "outputs": []
    },
    {
      "cell_type": "markdown",
      "metadata": {
        "id": "L82bU_YpLm-m",
        "colab_type": "text"
      },
      "source": [
        "# GANEstimator"
      ]
    },
    {
      "cell_type": "code",
      "metadata": {
        "id": "Ayp5JoOqLrXX",
        "colab_type": "code",
        "colab": {
          "base_uri": "https://localhost:8080/",
          "height": 1000
        },
        "outputId": "bc38a488-2ac6-4daa-fbf4-7ff2fd4b784c"
      },
      "source": [
        "generator_lr = 0.001\n",
        "discriminator_lr = 0.0002\n",
        "\n",
        "# Configure the GAN estimator with all the functions from above\n",
        "gan_estimator = tfg.estimator.GANEstimator(generator_fn=quantum_generator_model,\n",
        "                           discriminator_fn=discriminator_model,\n",
        "                           generator_loss_fn=generator_loss_function,\n",
        "                           discriminator_loss_fn=discriminator_loss_function,\n",
        "                           generator_optimizer=tf.compat.v1.train.AdamOptimizer(generator_lr, 0.5),\n",
        "                           discriminator_optimizer=tf.compat.v1.train.AdamOptimizer(discriminator_lr, 0.5),\n",
        "                           get_eval_metric_ops_fn=get_eval_metric_ops_fn)\n",
        "\n",
        "steps_per_eval = 10 #@param\n",
        "max_train_steps = 100 #@param\n",
        "batches_for_eval_metrics = 10 #@param\n",
        "\n",
        "# Used to track metrics.\n",
        "steps = []\n",
        "real_logits, fake_logits = [], []\n",
        "zeros, ones, twos, threes = [],[],[],[]\n",
        "\n",
        "cur_step = 0\n",
        "start_time = time.time()\n",
        "while cur_step < max_train_steps:\n",
        "  next_step = min(cur_step + steps_per_eval, max_train_steps)\n",
        "  gan_estimator.train(generate_data, max_steps=next_step)\n",
        "  steps_taken = next_step - cur_step\n",
        "  cur_step = next_step\n",
        "  \n",
        "  # Calculate some metrics.\n",
        "  metrics = gan_estimator.evaluate(generate_data, steps=batches_for_eval_metrics)\n",
        "  steps.append(cur_step)\n",
        "  real_logits.append(metrics['real_data_logits'])\n",
        "  fake_logits.append(metrics['gen_data_logits'])\n",
        "  print('Average discriminator output on Real: %.2f  Fake: %.2f' % (\n",
        "      real_logits[-1], fake_logits[-1]))\n",
        "  plt.figure()\n",
        "  plt.bar(np.arange(0,4), [metrics['zeros'],metrics['ones'],metrics['twos'],metrics['threes']])\n",
        "  zeros.append(metrics['zeros'])\n",
        "  ones.append(metrics['ones'])\n",
        "  twos.append(metrics['twos'])\n",
        "  threes.append(metrics['threes'])\n",
        "  print(metrics['entropy'])\n",
        "\n",
        "plt.figure()\n",
        "plt.plot(steps, zeros, steps, ones, steps, twos, steps, threes)\n"
      ],
      "execution_count": null,
      "outputs": [
        {
          "output_type": "stream",
          "text": [
            "INFO:tensorflow:Using default config.\n",
            "WARNING:tensorflow:Using temporary folder as model directory: /tmp/tmpjlrkso7q\n",
            "INFO:tensorflow:Using config: {'_model_dir': '/tmp/tmpjlrkso7q', '_tf_random_seed': None, '_save_summary_steps': 100, '_save_checkpoints_steps': None, '_save_checkpoints_secs': 600, '_session_config': allow_soft_placement: true\n",
            "graph_options {\n",
            "  rewrite_options {\n",
            "    meta_optimizer_iterations: ONE\n",
            "  }\n",
            "}\n",
            ", '_keep_checkpoint_max': 5, '_keep_checkpoint_every_n_hours': 10000, '_log_step_count_steps': 100, '_train_distribute': None, '_device_fn': None, '_protocol': None, '_eval_distribute': None, '_experimental_distribute': None, '_experimental_max_worker_delay_secs': None, '_session_creation_timeout_secs': 7200, '_service': None, '_cluster_spec': ClusterSpec({}), '_task_type': 'worker', '_task_id': 0, '_global_id_in_cluster': 0, '_master': '', '_evaluation_master': '', '_is_chief': True, '_num_ps_replicas': 0, '_num_worker_replicas': 1}\n",
            "WARNING:tensorflow:Estimator's model_fn (<function GANEstimator.__init__.<locals>._model_fn at 0x7fae7b7432f0>) includes params argument, but params are not passed to Estimator.\n",
            "INFO:tensorflow:Calling model_fn.\n",
            "(0, 0): ───Ry(a0)───@───\n",
            "                    │\n",
            "(1, 0): ───Ry(a1)───@───\n",
            "WARNING:tensorflow:11 out of the last 11 calls to <function parse_programs at 0x7fae97993840> triggered tf.function retracing. Tracing is expensive and the excessive number of tracings is likely due to passing python objects instead of tensors. Also, tf.function has experimental_relax_shapes=True option that relaxes argument shapes that can avoid unnecessary retracing. Please refer to https://www.tensorflow.org/tutorials/customization/performance#python_or_tensor_args and https://www.tensorflow.org/api_docs/python/tf/function for more details.\n",
            "INFO:tensorflow:Done calling model_fn.\n",
            "INFO:tensorflow:Create CheckpointSaverHook.\n",
            "INFO:tensorflow:Graph was finalized.\n",
            "INFO:tensorflow:Running local_init_op.\n",
            "INFO:tensorflow:Done running local_init_op.\n",
            "INFO:tensorflow:Saving checkpoints for 0 into /tmp/tmpjlrkso7q/model.ckpt.\n",
            "INFO:tensorflow:loss = -1.321094, step = 0\n",
            "INFO:tensorflow:Saving checkpoints for 10 into /tmp/tmpjlrkso7q/model.ckpt.\n",
            "INFO:tensorflow:Loss for final step: -1.3661062.\n",
            "INFO:tensorflow:Calling model_fn.\n",
            "(0, 0): ───Ry(a0)───@───\n",
            "                    │\n",
            "(1, 0): ───Ry(a1)───@───\n",
            "INFO:tensorflow:Done calling model_fn.\n",
            "INFO:tensorflow:Starting evaluation at 2020-08-12T09:49:52Z\n",
            "INFO:tensorflow:Graph was finalized.\n",
            "INFO:tensorflow:Restoring parameters from /tmp/tmpjlrkso7q/model.ckpt-10\n",
            "INFO:tensorflow:Running local_init_op.\n",
            "INFO:tensorflow:Done running local_init_op.\n",
            "INFO:tensorflow:Evaluation [1/10]\n",
            "INFO:tensorflow:Evaluation [2/10]\n",
            "INFO:tensorflow:Evaluation [3/10]\n",
            "INFO:tensorflow:Evaluation [4/10]\n",
            "INFO:tensorflow:Evaluation [5/10]\n",
            "INFO:tensorflow:Evaluation [6/10]\n",
            "INFO:tensorflow:Evaluation [7/10]\n",
            "INFO:tensorflow:Evaluation [8/10]\n",
            "INFO:tensorflow:Evaluation [9/10]\n",
            "INFO:tensorflow:Evaluation [10/10]\n",
            "INFO:tensorflow:Inference Time : 0.92984s\n",
            "INFO:tensorflow:Finished evaluation at 2020-08-12-09:49:53\n",
            "INFO:tensorflow:Saving dict for global step 10: discriminator_loss = -1.3667452, entropy = nan, gen_data_logits = 0.511203, generator_loss = -0.6710436, global_step = 10, loss = -1.3667452, ones = 0.0053333333, real_data_logits = 0.5217606, threes = 0.55733335, twos = 0.4335, zeros = 0.0038333333\n",
            "INFO:tensorflow:Saving 'checkpoint_path' summary for global step 10: /tmp/tmpjlrkso7q/model.ckpt-10\n",
            "Average discriminator output on Real: 0.52  Fake: 0.51\n",
            "nan\n",
            "INFO:tensorflow:Calling model_fn.\n",
            "(0, 0): ───Ry(a0)───@───\n",
            "                    │\n",
            "(1, 0): ───Ry(a1)───@───\n",
            "WARNING:tensorflow:11 out of the last 11 calls to <function parse_programs at 0x7fae97993840> triggered tf.function retracing. Tracing is expensive and the excessive number of tracings is likely due to passing python objects instead of tensors. Also, tf.function has experimental_relax_shapes=True option that relaxes argument shapes that can avoid unnecessary retracing. Please refer to https://www.tensorflow.org/tutorials/customization/performance#python_or_tensor_args and https://www.tensorflow.org/api_docs/python/tf/function for more details.\n",
            "INFO:tensorflow:Done calling model_fn.\n",
            "INFO:tensorflow:Create CheckpointSaverHook.\n",
            "INFO:tensorflow:Graph was finalized.\n",
            "INFO:tensorflow:Restoring parameters from /tmp/tmpjlrkso7q/model.ckpt-10\n",
            "INFO:tensorflow:Running local_init_op.\n",
            "INFO:tensorflow:Done running local_init_op.\n",
            "INFO:tensorflow:Saving checkpoints for 10 into /tmp/tmpjlrkso7q/model.ckpt.\n",
            "INFO:tensorflow:loss = -1.3706237, step = 10\n",
            "INFO:tensorflow:Saving checkpoints for 20 into /tmp/tmpjlrkso7q/model.ckpt.\n",
            "INFO:tensorflow:Loss for final step: -1.4174153.\n",
            "INFO:tensorflow:Calling model_fn.\n",
            "(0, 0): ───Ry(a0)───@───\n",
            "                    │\n",
            "(1, 0): ───Ry(a1)───@───\n",
            "INFO:tensorflow:Done calling model_fn.\n",
            "INFO:tensorflow:Starting evaluation at 2020-08-12T09:49:59Z\n",
            "INFO:tensorflow:Graph was finalized.\n",
            "INFO:tensorflow:Restoring parameters from /tmp/tmpjlrkso7q/model.ckpt-20\n",
            "INFO:tensorflow:Running local_init_op.\n",
            "INFO:tensorflow:Done running local_init_op.\n",
            "INFO:tensorflow:Evaluation [1/10]\n",
            "INFO:tensorflow:Evaluation [2/10]\n",
            "INFO:tensorflow:Evaluation [3/10]\n",
            "INFO:tensorflow:Evaluation [4/10]\n",
            "INFO:tensorflow:Evaluation [5/10]\n",
            "INFO:tensorflow:Evaluation [6/10]\n",
            "INFO:tensorflow:Evaluation [7/10]\n",
            "INFO:tensorflow:Evaluation [8/10]\n",
            "INFO:tensorflow:Evaluation [9/10]\n",
            "INFO:tensorflow:Evaluation [10/10]\n",
            "INFO:tensorflow:Inference Time : 0.99218s\n",
            "INFO:tensorflow:Finished evaluation at 2020-08-12-09:50:00\n",
            "INFO:tensorflow:Saving dict for global step 20: discriminator_loss = -1.4193214, entropy = nan, gen_data_logits = 0.524186, generator_loss = -0.64598644, global_step = 20, loss = -1.4193214, ones = 0.0059322035, real_data_logits = 0.50851995, threes = 0.5622034, twos = 0.42762712, zeros = 0.004237288\n",
            "INFO:tensorflow:Saving 'checkpoint_path' summary for global step 20: /tmp/tmpjlrkso7q/model.ckpt-20\n",
            "Average discriminator output on Real: 0.51  Fake: 0.52\n",
            "nan\n",
            "INFO:tensorflow:Calling model_fn.\n",
            "(0, 0): ───Ry(a0)───@───\n",
            "                    │\n",
            "(1, 0): ───Ry(a1)───@───\n",
            "WARNING:tensorflow:11 out of the last 11 calls to <function parse_programs at 0x7fae97993840> triggered tf.function retracing. Tracing is expensive and the excessive number of tracings is likely due to passing python objects instead of tensors. Also, tf.function has experimental_relax_shapes=True option that relaxes argument shapes that can avoid unnecessary retracing. Please refer to https://www.tensorflow.org/tutorials/customization/performance#python_or_tensor_args and https://www.tensorflow.org/api_docs/python/tf/function for more details.\n",
            "INFO:tensorflow:Done calling model_fn.\n",
            "INFO:tensorflow:Create CheckpointSaverHook.\n",
            "INFO:tensorflow:Graph was finalized.\n",
            "INFO:tensorflow:Restoring parameters from /tmp/tmpjlrkso7q/model.ckpt-20\n",
            "INFO:tensorflow:Running local_init_op.\n",
            "INFO:tensorflow:Done running local_init_op.\n",
            "INFO:tensorflow:Saving checkpoints for 20 into /tmp/tmpjlrkso7q/model.ckpt.\n",
            "INFO:tensorflow:loss = -1.42323, step = 20\n",
            "INFO:tensorflow:Saving checkpoints for 30 into /tmp/tmpjlrkso7q/model.ckpt.\n",
            "INFO:tensorflow:Loss for final step: -1.4711331.\n",
            "INFO:tensorflow:Calling model_fn.\n",
            "(0, 0): ───Ry(a0)───@───\n",
            "                    │\n",
            "(1, 0): ───Ry(a1)───@───\n",
            "INFO:tensorflow:Done calling model_fn.\n",
            "INFO:tensorflow:Starting evaluation at 2020-08-12T09:50:06Z\n",
            "INFO:tensorflow:Graph was finalized.\n",
            "INFO:tensorflow:Restoring parameters from /tmp/tmpjlrkso7q/model.ckpt-30\n",
            "INFO:tensorflow:Running local_init_op.\n",
            "INFO:tensorflow:Done running local_init_op.\n",
            "INFO:tensorflow:Evaluation [1/10]\n",
            "INFO:tensorflow:Evaluation [2/10]\n",
            "INFO:tensorflow:Evaluation [3/10]\n",
            "INFO:tensorflow:Evaluation [4/10]\n",
            "INFO:tensorflow:Evaluation [5/10]\n",
            "INFO:tensorflow:Evaluation [6/10]\n",
            "INFO:tensorflow:Evaluation [7/10]\n",
            "INFO:tensorflow:Evaluation [8/10]\n",
            "INFO:tensorflow:Evaluation [9/10]\n",
            "INFO:tensorflow:Evaluation [10/10]\n",
            "INFO:tensorflow:Inference Time : 0.96922s\n",
            "INFO:tensorflow:Finished evaluation at 2020-08-12-09:50:07\n",
            "INFO:tensorflow:Saving dict for global step 30: discriminator_loss = -1.4720995, entropy = nan, gen_data_logits = 0.537337, generator_loss = -0.62125856, global_step = 30, loss = -1.4720995, ones = 0.0067357514, real_data_logits = 0.49611425, threes = 0.5580311, twos = 0.4300518, zeros = 0.005181347\n",
            "INFO:tensorflow:Saving 'checkpoint_path' summary for global step 30: /tmp/tmpjlrkso7q/model.ckpt-30\n",
            "Average discriminator output on Real: 0.50  Fake: 0.54\n",
            "nan\n",
            "INFO:tensorflow:Calling model_fn.\n",
            "(0, 0): ───Ry(a0)───@───\n",
            "                    │\n",
            "(1, 0): ───Ry(a1)───@───\n",
            "WARNING:tensorflow:11 out of the last 11 calls to <function parse_programs at 0x7fae97993840> triggered tf.function retracing. Tracing is expensive and the excessive number of tracings is likely due to passing python objects instead of tensors. Also, tf.function has experimental_relax_shapes=True option that relaxes argument shapes that can avoid unnecessary retracing. Please refer to https://www.tensorflow.org/tutorials/customization/performance#python_or_tensor_args and https://www.tensorflow.org/api_docs/python/tf/function for more details.\n",
            "INFO:tensorflow:Done calling model_fn.\n",
            "INFO:tensorflow:Create CheckpointSaverHook.\n",
            "INFO:tensorflow:Graph was finalized.\n",
            "INFO:tensorflow:Restoring parameters from /tmp/tmpjlrkso7q/model.ckpt-30\n",
            "INFO:tensorflow:Running local_init_op.\n",
            "INFO:tensorflow:Done running local_init_op.\n",
            "INFO:tensorflow:Saving checkpoints for 30 into /tmp/tmpjlrkso7q/model.ckpt.\n",
            "INFO:tensorflow:loss = -1.4787662, step = 30\n",
            "INFO:tensorflow:Saving checkpoints for 40 into /tmp/tmpjlrkso7q/model.ckpt.\n",
            "INFO:tensorflow:Loss for final step: -1.525995.\n",
            "INFO:tensorflow:Calling model_fn.\n",
            "(0, 0): ───Ry(a0)───@───\n",
            "                    │\n",
            "(1, 0): ───Ry(a1)───@───\n",
            "INFO:tensorflow:Done calling model_fn.\n",
            "INFO:tensorflow:Starting evaluation at 2020-08-12T09:50:13Z\n",
            "INFO:tensorflow:Graph was finalized.\n",
            "INFO:tensorflow:Restoring parameters from /tmp/tmpjlrkso7q/model.ckpt-40\n",
            "INFO:tensorflow:Running local_init_op.\n",
            "INFO:tensorflow:Done running local_init_op.\n",
            "INFO:tensorflow:Evaluation [1/10]\n",
            "INFO:tensorflow:Evaluation [2/10]\n",
            "INFO:tensorflow:Evaluation [3/10]\n",
            "INFO:tensorflow:Evaluation [4/10]\n",
            "INFO:tensorflow:Evaluation [5/10]\n",
            "INFO:tensorflow:Evaluation [6/10]\n",
            "INFO:tensorflow:Evaluation [7/10]\n",
            "INFO:tensorflow:Evaluation [8/10]\n",
            "INFO:tensorflow:Evaluation [9/10]\n",
            "INFO:tensorflow:Evaluation [10/10]\n",
            "INFO:tensorflow:Inference Time : 0.97511s\n",
            "INFO:tensorflow:Finished evaluation at 2020-08-12-09:50:14\n",
            "INFO:tensorflow:Saving dict for global step 40: discriminator_loss = -1.5259699, entropy = nan, gen_data_logits = 0.5501564, generator_loss = -0.5977688, global_step = 40, loss = -1.5259699, ones = 0.008373591, real_data_logits = 0.48356724, threes = 0.55152977, twos = 0.4347826, zeros = 0.0053140097\n",
            "INFO:tensorflow:Saving 'checkpoint_path' summary for global step 40: /tmp/tmpjlrkso7q/model.ckpt-40\n",
            "Average discriminator output on Real: 0.48  Fake: 0.55\n",
            "nan\n",
            "INFO:tensorflow:Calling model_fn.\n",
            "(0, 0): ───Ry(a0)───@───\n",
            "                    │\n",
            "(1, 0): ───Ry(a1)───@───\n",
            "WARNING:tensorflow:11 out of the last 11 calls to <function parse_programs at 0x7fae97993840> triggered tf.function retracing. Tracing is expensive and the excessive number of tracings is likely due to passing python objects instead of tensors. Also, tf.function has experimental_relax_shapes=True option that relaxes argument shapes that can avoid unnecessary retracing. Please refer to https://www.tensorflow.org/tutorials/customization/performance#python_or_tensor_args and https://www.tensorflow.org/api_docs/python/tf/function for more details.\n",
            "INFO:tensorflow:Done calling model_fn.\n",
            "INFO:tensorflow:Create CheckpointSaverHook.\n",
            "INFO:tensorflow:Graph was finalized.\n",
            "INFO:tensorflow:Restoring parameters from /tmp/tmpjlrkso7q/model.ckpt-40\n",
            "INFO:tensorflow:Running local_init_op.\n",
            "INFO:tensorflow:Done running local_init_op.\n",
            "INFO:tensorflow:Saving checkpoints for 40 into /tmp/tmpjlrkso7q/model.ckpt.\n",
            "INFO:tensorflow:loss = -1.5313491, step = 40\n",
            "INFO:tensorflow:Saving checkpoints for 50 into /tmp/tmpjlrkso7q/model.ckpt.\n",
            "INFO:tensorflow:Loss for final step: -1.5814705.\n",
            "INFO:tensorflow:Calling model_fn.\n",
            "(0, 0): ───Ry(a0)───@───\n",
            "                    │\n",
            "(1, 0): ───Ry(a1)───@───\n",
            "INFO:tensorflow:Done calling model_fn.\n",
            "INFO:tensorflow:Starting evaluation at 2020-08-12T09:50:20Z\n",
            "INFO:tensorflow:Graph was finalized.\n",
            "INFO:tensorflow:Restoring parameters from /tmp/tmpjlrkso7q/model.ckpt-50\n",
            "INFO:tensorflow:Running local_init_op.\n",
            "INFO:tensorflow:Done running local_init_op.\n",
            "INFO:tensorflow:Evaluation [1/10]\n",
            "INFO:tensorflow:Evaluation [2/10]\n",
            "INFO:tensorflow:Evaluation [3/10]\n",
            "INFO:tensorflow:Evaluation [4/10]\n",
            "INFO:tensorflow:Evaluation [5/10]\n",
            "INFO:tensorflow:Evaluation [6/10]\n",
            "INFO:tensorflow:Evaluation [7/10]\n",
            "INFO:tensorflow:Evaluation [8/10]\n",
            "INFO:tensorflow:Evaluation [9/10]\n",
            "INFO:tensorflow:Evaluation [10/10]\n",
            "INFO:tensorflow:Inference Time : 0.96375s\n",
            "INFO:tensorflow:Finished evaluation at 2020-08-12-09:50:21\n",
            "INFO:tensorflow:Saving dict for global step 50: discriminator_loss = -1.5813547, entropy = nan, gen_data_logits = 0.56256807, generator_loss = -0.57556635, global_step = 50, loss = -1.5813547, ones = 0.007894737, real_data_logits = 0.4706164, threes = 0.53125, twos = 0.45427632, zeros = 0.0065789474\n",
            "INFO:tensorflow:Saving 'checkpoint_path' summary for global step 50: /tmp/tmpjlrkso7q/model.ckpt-50\n",
            "Average discriminator output on Real: 0.47  Fake: 0.56\n",
            "nan\n",
            "INFO:tensorflow:Calling model_fn.\n",
            "(0, 0): ───Ry(a0)───@───\n",
            "                    │\n",
            "(1, 0): ───Ry(a1)───@───\n",
            "WARNING:tensorflow:11 out of the last 11 calls to <function parse_programs at 0x7fae97993840> triggered tf.function retracing. Tracing is expensive and the excessive number of tracings is likely due to passing python objects instead of tensors. Also, tf.function has experimental_relax_shapes=True option that relaxes argument shapes that can avoid unnecessary retracing. Please refer to https://www.tensorflow.org/tutorials/customization/performance#python_or_tensor_args and https://www.tensorflow.org/api_docs/python/tf/function for more details.\n",
            "INFO:tensorflow:Done calling model_fn.\n",
            "INFO:tensorflow:Create CheckpointSaverHook.\n",
            "INFO:tensorflow:Graph was finalized.\n",
            "INFO:tensorflow:Restoring parameters from /tmp/tmpjlrkso7q/model.ckpt-50\n",
            "INFO:tensorflow:Running local_init_op.\n",
            "INFO:tensorflow:Done running local_init_op.\n",
            "INFO:tensorflow:Saving checkpoints for 50 into /tmp/tmpjlrkso7q/model.ckpt.\n",
            "INFO:tensorflow:loss = -1.5888276, step = 50\n",
            "INFO:tensorflow:Saving checkpoints for 60 into /tmp/tmpjlrkso7q/model.ckpt.\n",
            "INFO:tensorflow:Loss for final step: -1.6451112.\n",
            "INFO:tensorflow:Calling model_fn.\n",
            "(0, 0): ───Ry(a0)───@───\n",
            "                    │\n",
            "(1, 0): ───Ry(a1)───@───\n",
            "INFO:tensorflow:Done calling model_fn.\n",
            "INFO:tensorflow:Starting evaluation at 2020-08-12T09:50:27Z\n",
            "INFO:tensorflow:Graph was finalized.\n",
            "INFO:tensorflow:Restoring parameters from /tmp/tmpjlrkso7q/model.ckpt-60\n",
            "INFO:tensorflow:Running local_init_op.\n",
            "INFO:tensorflow:Done running local_init_op.\n",
            "INFO:tensorflow:Evaluation [1/10]\n",
            "INFO:tensorflow:Evaluation [2/10]\n",
            "INFO:tensorflow:Evaluation [3/10]\n",
            "INFO:tensorflow:Evaluation [4/10]\n",
            "INFO:tensorflow:Evaluation [5/10]\n",
            "INFO:tensorflow:Evaluation [6/10]\n",
            "INFO:tensorflow:Evaluation [7/10]\n",
            "INFO:tensorflow:Evaluation [8/10]\n",
            "INFO:tensorflow:Evaluation [9/10]\n",
            "INFO:tensorflow:Evaluation [10/10]\n",
            "INFO:tensorflow:Inference Time : 0.96454s\n",
            "INFO:tensorflow:Finished evaluation at 2020-08-12-09:50:28\n",
            "INFO:tensorflow:Saving dict for global step 60: discriminator_loss = -1.6422592, entropy = nan, gen_data_logits = 0.57580954, generator_loss = -0.55242676, global_step = 60, loss = -1.6422592, ones = 0.0072847684, real_data_logits = 0.45681602, threes = 0.535596, twos = 0.452649, zeros = 0.004470199\n",
            "INFO:tensorflow:Saving 'checkpoint_path' summary for global step 60: /tmp/tmpjlrkso7q/model.ckpt-60\n",
            "Average discriminator output on Real: 0.46  Fake: 0.58\n",
            "nan\n",
            "INFO:tensorflow:Calling model_fn.\n",
            "(0, 0): ───Ry(a0)───@───\n",
            "                    │\n",
            "(1, 0): ───Ry(a1)───@───\n",
            "WARNING:tensorflow:11 out of the last 11 calls to <function parse_programs at 0x7fae97993840> triggered tf.function retracing. Tracing is expensive and the excessive number of tracings is likely due to passing python objects instead of tensors. Also, tf.function has experimental_relax_shapes=True option that relaxes argument shapes that can avoid unnecessary retracing. Please refer to https://www.tensorflow.org/tutorials/customization/performance#python_or_tensor_args and https://www.tensorflow.org/api_docs/python/tf/function for more details.\n",
            "INFO:tensorflow:Done calling model_fn.\n",
            "INFO:tensorflow:Create CheckpointSaverHook.\n",
            "INFO:tensorflow:Graph was finalized.\n",
            "INFO:tensorflow:Restoring parameters from /tmp/tmpjlrkso7q/model.ckpt-60\n",
            "INFO:tensorflow:Running local_init_op.\n",
            "INFO:tensorflow:Done running local_init_op.\n",
            "INFO:tensorflow:Saving checkpoints for 60 into /tmp/tmpjlrkso7q/model.ckpt.\n",
            "INFO:tensorflow:loss = -1.6509174, step = 60\n",
            "INFO:tensorflow:Saving checkpoints for 70 into /tmp/tmpjlrkso7q/model.ckpt.\n",
            "INFO:tensorflow:Loss for final step: -1.709187.\n",
            "INFO:tensorflow:Calling model_fn.\n",
            "(0, 0): ───Ry(a0)───@───\n",
            "                    │\n",
            "(1, 0): ───Ry(a1)───@───\n",
            "INFO:tensorflow:Done calling model_fn.\n",
            "INFO:tensorflow:Starting evaluation at 2020-08-12T09:50:33Z\n",
            "INFO:tensorflow:Graph was finalized.\n",
            "INFO:tensorflow:Restoring parameters from /tmp/tmpjlrkso7q/model.ckpt-70\n",
            "INFO:tensorflow:Running local_init_op.\n",
            "INFO:tensorflow:Done running local_init_op.\n",
            "INFO:tensorflow:Evaluation [1/10]\n",
            "INFO:tensorflow:Evaluation [2/10]\n",
            "INFO:tensorflow:Evaluation [3/10]\n",
            "INFO:tensorflow:Evaluation [4/10]\n",
            "INFO:tensorflow:Evaluation [5/10]\n",
            "INFO:tensorflow:Evaluation [6/10]\n",
            "INFO:tensorflow:Evaluation [7/10]\n",
            "INFO:tensorflow:Evaluation [8/10]\n",
            "INFO:tensorflow:Evaluation [9/10]\n",
            "INFO:tensorflow:Evaluation [10/10]\n",
            "INFO:tensorflow:Inference Time : 1.00544s\n",
            "INFO:tensorflow:Finished evaluation at 2020-08-12-09:50:34\n",
            "INFO:tensorflow:Saving dict for global step 70: discriminator_loss = -1.7091427, entropy = nan, gen_data_logits = 0.59141445, generator_loss = -0.52594554, global_step = 70, loss = -1.7091427, ones = 0.00928, real_data_logits = 0.44395787, threes = 0.5432, twos = 0.4392, zeros = 0.00832\n",
            "INFO:tensorflow:Saving 'checkpoint_path' summary for global step 70: /tmp/tmpjlrkso7q/model.ckpt-70\n",
            "Average discriminator output on Real: 0.44  Fake: 0.59\n",
            "nan\n",
            "INFO:tensorflow:Calling model_fn.\n",
            "(0, 0): ───Ry(a0)───@───\n",
            "                    │\n",
            "(1, 0): ───Ry(a1)───@───\n",
            "WARNING:tensorflow:11 out of the last 11 calls to <function parse_programs at 0x7fae97993840> triggered tf.function retracing. Tracing is expensive and the excessive number of tracings is likely due to passing python objects instead of tensors. Also, tf.function has experimental_relax_shapes=True option that relaxes argument shapes that can avoid unnecessary retracing. Please refer to https://www.tensorflow.org/tutorials/customization/performance#python_or_tensor_args and https://www.tensorflow.org/api_docs/python/tf/function for more details.\n",
            "INFO:tensorflow:Done calling model_fn.\n",
            "INFO:tensorflow:Create CheckpointSaverHook.\n",
            "INFO:tensorflow:Graph was finalized.\n",
            "INFO:tensorflow:Restoring parameters from /tmp/tmpjlrkso7q/model.ckpt-70\n",
            "INFO:tensorflow:Running local_init_op.\n",
            "INFO:tensorflow:Done running local_init_op.\n",
            "INFO:tensorflow:Saving checkpoints for 70 into /tmp/tmpjlrkso7q/model.ckpt.\n",
            "INFO:tensorflow:loss = -1.7174889, step = 70\n",
            "INFO:tensorflow:Saving checkpoints for 80 into /tmp/tmpjlrkso7q/model.ckpt.\n",
            "INFO:tensorflow:Loss for final step: -1.790208.\n",
            "INFO:tensorflow:Calling model_fn.\n",
            "(0, 0): ───Ry(a0)───@───\n",
            "                    │\n",
            "(1, 0): ───Ry(a1)───@───\n",
            "INFO:tensorflow:Done calling model_fn.\n",
            "INFO:tensorflow:Starting evaluation at 2020-08-12T09:50:40Z\n",
            "INFO:tensorflow:Graph was finalized.\n",
            "INFO:tensorflow:Restoring parameters from /tmp/tmpjlrkso7q/model.ckpt-80\n",
            "INFO:tensorflow:Running local_init_op.\n",
            "INFO:tensorflow:Done running local_init_op.\n",
            "INFO:tensorflow:Evaluation [1/10]\n",
            "INFO:tensorflow:Evaluation [2/10]\n",
            "INFO:tensorflow:Evaluation [3/10]\n",
            "INFO:tensorflow:Evaluation [4/10]\n",
            "INFO:tensorflow:Evaluation [5/10]\n",
            "INFO:tensorflow:Evaluation [6/10]\n",
            "INFO:tensorflow:Evaluation [7/10]\n",
            "INFO:tensorflow:Evaluation [8/10]\n",
            "INFO:tensorflow:Evaluation [9/10]\n",
            "INFO:tensorflow:Evaluation [10/10]\n",
            "INFO:tensorflow:Inference Time : 0.98008s\n",
            "INFO:tensorflow:Finished evaluation at 2020-08-12-09:50:41\n",
            "INFO:tensorflow:Saving dict for global step 80: discriminator_loss = -1.7832139, entropy = nan, gen_data_logits = 0.60673684, generator_loss = -0.50064135, global_step = 80, loss = -1.7832139, ones = 0.008952702, real_data_logits = 0.4287591, threes = 0.51317567, twos = 0.46976352, zeros = 0.008108108\n",
            "INFO:tensorflow:Saving 'checkpoint_path' summary for global step 80: /tmp/tmpjlrkso7q/model.ckpt-80\n",
            "Average discriminator output on Real: 0.43  Fake: 0.61\n",
            "nan\n",
            "INFO:tensorflow:Calling model_fn.\n",
            "(0, 0): ───Ry(a0)───@───\n",
            "                    │\n",
            "(1, 0): ───Ry(a1)───@───\n",
            "WARNING:tensorflow:11 out of the last 11 calls to <function parse_programs at 0x7fae97993840> triggered tf.function retracing. Tracing is expensive and the excessive number of tracings is likely due to passing python objects instead of tensors. Also, tf.function has experimental_relax_shapes=True option that relaxes argument shapes that can avoid unnecessary retracing. Please refer to https://www.tensorflow.org/tutorials/customization/performance#python_or_tensor_args and https://www.tensorflow.org/api_docs/python/tf/function for more details.\n",
            "INFO:tensorflow:Done calling model_fn.\n",
            "INFO:tensorflow:Create CheckpointSaverHook.\n",
            "INFO:tensorflow:Graph was finalized.\n",
            "INFO:tensorflow:Restoring parameters from /tmp/tmpjlrkso7q/model.ckpt-80\n",
            "INFO:tensorflow:Running local_init_op.\n",
            "INFO:tensorflow:Done running local_init_op.\n",
            "INFO:tensorflow:Saving checkpoints for 80 into /tmp/tmpjlrkso7q/model.ckpt.\n",
            "INFO:tensorflow:loss = -1.7944455, step = 80\n",
            "INFO:tensorflow:Saving checkpoints for 90 into /tmp/tmpjlrkso7q/model.ckpt.\n",
            "INFO:tensorflow:Loss for final step: -1.8660104.\n",
            "INFO:tensorflow:Calling model_fn.\n",
            "(0, 0): ───Ry(a0)───@───\n",
            "                    │\n",
            "(1, 0): ───Ry(a1)───@───\n",
            "INFO:tensorflow:Done calling model_fn.\n",
            "INFO:tensorflow:Starting evaluation at 2020-08-12T09:50:47Z\n",
            "INFO:tensorflow:Graph was finalized.\n",
            "INFO:tensorflow:Restoring parameters from /tmp/tmpjlrkso7q/model.ckpt-90\n",
            "INFO:tensorflow:Running local_init_op.\n",
            "INFO:tensorflow:Done running local_init_op.\n",
            "INFO:tensorflow:Evaluation [1/10]\n",
            "INFO:tensorflow:Evaluation [2/10]\n",
            "INFO:tensorflow:Evaluation [3/10]\n",
            "INFO:tensorflow:Evaluation [4/10]\n",
            "INFO:tensorflow:Evaluation [5/10]\n",
            "INFO:tensorflow:Evaluation [6/10]\n",
            "INFO:tensorflow:Evaluation [7/10]\n",
            "INFO:tensorflow:Evaluation [8/10]\n",
            "INFO:tensorflow:Evaluation [9/10]\n",
            "INFO:tensorflow:Evaluation [10/10]\n",
            "INFO:tensorflow:Inference Time : 1.00737s\n",
            "INFO:tensorflow:Finished evaluation at 2020-08-12-09:50:48\n",
            "INFO:tensorflow:Saving dict for global step 90: discriminator_loss = -1.8626773, entropy = nan, gen_data_logits = 0.6255778, generator_loss = -0.47029623, global_step = 90, loss = -1.8626773, ones = 0.009298532, real_data_logits = 0.4165743, threes = 0.50522023, twos = 0.47553018, zeros = 0.009951061\n",
            "INFO:tensorflow:Saving 'checkpoint_path' summary for global step 90: /tmp/tmpjlrkso7q/model.ckpt-90\n",
            "Average discriminator output on Real: 0.42  Fake: 0.63\n",
            "nan\n",
            "INFO:tensorflow:Calling model_fn.\n",
            "(0, 0): ───Ry(a0)───@───\n",
            "                    │\n",
            "(1, 0): ───Ry(a1)───@───\n",
            "WARNING:tensorflow:11 out of the last 11 calls to <function parse_programs at 0x7fae97993840> triggered tf.function retracing. Tracing is expensive and the excessive number of tracings is likely due to passing python objects instead of tensors. Also, tf.function has experimental_relax_shapes=True option that relaxes argument shapes that can avoid unnecessary retracing. Please refer to https://www.tensorflow.org/tutorials/customization/performance#python_or_tensor_args and https://www.tensorflow.org/api_docs/python/tf/function for more details.\n",
            "INFO:tensorflow:Done calling model_fn.\n",
            "INFO:tensorflow:Create CheckpointSaverHook.\n",
            "INFO:tensorflow:Graph was finalized.\n",
            "INFO:tensorflow:Restoring parameters from /tmp/tmpjlrkso7q/model.ckpt-90\n",
            "INFO:tensorflow:Running local_init_op.\n",
            "INFO:tensorflow:Done running local_init_op.\n",
            "INFO:tensorflow:Saving checkpoints for 90 into /tmp/tmpjlrkso7q/model.ckpt.\n",
            "INFO:tensorflow:loss = -1.8747579, step = 90\n",
            "INFO:tensorflow:Saving checkpoints for 100 into /tmp/tmpjlrkso7q/model.ckpt.\n",
            "INFO:tensorflow:Loss for final step: -1.9657041.\n",
            "INFO:tensorflow:Calling model_fn.\n",
            "(0, 0): ───Ry(a0)───@───\n",
            "                    │\n",
            "(1, 0): ───Ry(a1)───@───\n",
            "INFO:tensorflow:Done calling model_fn.\n",
            "INFO:tensorflow:Starting evaluation at 2020-08-12T09:50:54Z\n",
            "INFO:tensorflow:Graph was finalized.\n",
            "INFO:tensorflow:Restoring parameters from /tmp/tmpjlrkso7q/model.ckpt-100\n",
            "INFO:tensorflow:Running local_init_op.\n",
            "INFO:tensorflow:Done running local_init_op.\n",
            "INFO:tensorflow:Evaluation [1/10]\n",
            "INFO:tensorflow:Evaluation [2/10]\n",
            "INFO:tensorflow:Evaluation [3/10]\n",
            "INFO:tensorflow:Evaluation [4/10]\n",
            "INFO:tensorflow:Evaluation [5/10]\n",
            "INFO:tensorflow:Evaluation [6/10]\n",
            "INFO:tensorflow:Evaluation [7/10]\n",
            "INFO:tensorflow:Evaluation [8/10]\n",
            "INFO:tensorflow:Evaluation [9/10]\n",
            "INFO:tensorflow:Evaluation [10/10]\n",
            "INFO:tensorflow:Inference Time : 0.95951s\n",
            "INFO:tensorflow:Finished evaluation at 2020-08-12-09:50:55\n",
            "INFO:tensorflow:Saving dict for global step 100: discriminator_loss = -1.9677017, entropy = nan, gen_data_logits = 0.6510126, generator_loss = -0.43074673, global_step = 100, loss = -1.9677017, ones = 0.010296412, real_data_logits = 0.4033714, threes = 0.50031203, twos = 0.4778471, zeros = 0.011544461\n",
            "INFO:tensorflow:Saving 'checkpoint_path' summary for global step 100: /tmp/tmpjlrkso7q/model.ckpt-100\n",
            "Average discriminator output on Real: 0.40  Fake: 0.65\n",
            "nan\n"
          ],
          "name": "stdout"
        },
        {
          "output_type": "execute_result",
          "data": {
            "text/plain": [
              "[<matplotlib.lines.Line2D at 0x7fae77f0b048>,\n",
              " <matplotlib.lines.Line2D at 0x7fae77f0b198>,\n",
              " <matplotlib.lines.Line2D at 0x7fae77f0b2e8>,\n",
              " <matplotlib.lines.Line2D at 0x7fae77f0b438>]"
            ]
          },
          "metadata": {
            "tags": []
          },
          "execution_count": 32
        },
        {
          "output_type": "display_data",
          "data": {
            "image/png": "[encoded data removed]",
            "text/plain": [
              "<Figure size 432x288 with 1 Axes>"
            ]
          },
          "metadata": {
            "tags": [],
            "needs_background": "light"
          }
        },
        {
          "output_type": "display_data",
          "data": {
            "image/png": "[encoded data removed]",
            "text/plain": [
              "<Figure size 432x288 with 1 Axes>"
            ]
          },
          "metadata": {
            "tags": [],
            "needs_background": "light"
          }
        },
        {
          "output_type": "display_data",
          "data": {
            "image/png": "[encoded data removed]",
            "text/plain": [
              "<Figure size 432x288 with 1 Axes>"
            ]
          },
          "metadata": {
            "tags": [],
            "needs_background": "light"
          }
        },
        {
          "output_type": "display_data",
          "data": {
            "image/png": "[encoded data removed]",
            "text/plain": [
              "<Figure size 432x288 with 1 Axes>"
            ]
          },
          "metadata": {
            "tags": [],
            "needs_background": "light"
          }
        },
        {
          "output_type": "display_data",
          "data": {
            "image/png": "[encoded data removed]",
            "text/plain": [
              "<Figure size 432x288 with 1 Axes>"
            ]
          },
          "metadata": {
            "tags": [],
            "needs_background": "light"
          }
        }
      ]
    }
  ]
}